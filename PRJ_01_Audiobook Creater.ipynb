{
 "cells": [
  {
   "cell_type": "markdown",
   "id": "f9cc5404",
   "metadata": {},
   "source": [
    "import library python to text "
   ]
  },
  {
   "cell_type": "code",
   "execution_count": null,
   "id": "38922ee5",
   "metadata": {},
   "outputs": [],
   "source": [
    "import pyttsx3\n",
    "import PyPDF2\n",
    "book=open('oop.pdf','rb')\n",
    "pdfReader =PyPDF2.PdfFileReader(book)\n",
    "pages = pdfReader.numPages\n",
    "speaker = pyttsx3.init()\n",
    "for num in range(7,pages):\n",
    "    page = pdfReader.getPage(7)\n",
    "    text = page.extractText()\n",
    "    speaker.say(text)\n",
    "    speaker.runAndWait()\n"
   ]
  },
  {
   "cell_type": "code",
   "execution_count": null,
   "id": "4bffe325",
   "metadata": {},
   "outputs": [],
   "source": []
  }
 ],
 "metadata": {
  "kernelspec": {
   "display_name": "Python 3",
   "language": "python",
   "name": "python3"
  },
  "language_info": {
   "codemirror_mode": {
    "name": "ipython",
    "version": 3
   },
   "file_extension": ".py",
   "mimetype": "text/x-python",
   "name": "python",
   "nbconvert_exporter": "python",
   "pygments_lexer": "ipython3",
   "version": "3.7.10"
  }
 },
 "nbformat": 4,
 "nbformat_minor": 5
}
